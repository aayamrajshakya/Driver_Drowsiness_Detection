{
 "cells": [
  {
   "cell_type": "markdown",
   "id": "b148756d-4ec9-4929-8fd8-494d990e468a",
   "metadata": {
    "id": "b148756d-4ec9-4929-8fd8-494d990e468a"
   },
   "source": [
    "### Importing key libraries"
   ]
  },
  {
   "cell_type": "code",
   "execution_count": null,
   "id": "1175886c-1bd2-4743-a7d9-d923cacfc5e9",
   "metadata": {
    "id": "1175886c-1bd2-4743-a7d9-d923cacfc5e9"
   },
   "outputs": [],
   "source": [
    "import os, json, yaml, warnings, random\n",
    "import numpy as np, matplotlib.pyplot as plt, tensorflow as tf\n",
    "from sklearn import metrics\n",
    "import optuna\n",
    "\n",
    "warnings.filterwarnings('ignore')\n",
    "\n",
    "# Set seeds for reproducibility\n",
    "random.seed(42)\n",
    "np.random.seed(42)\n",
    "tf.random.set_seed(42)"
   ]
  },
  {
   "cell_type": "code",
   "execution_count": null,
   "id": "385ee2ee",
   "metadata": {},
   "outputs": [],
   "source": [
    "# Uncommon packages\n",
    "# !pip install -q split-folders optuna-integration"
   ]
  },
  {
   "cell_type": "markdown",
   "id": "940b6bce",
   "metadata": {},
   "source": [
    "### TF configuration"
   ]
  },
  {
   "cell_type": "code",
   "execution_count": null,
   "id": "e315f17d-b243-4643-9d55-4986deb022a4",
   "metadata": {
    "id": "e315f17d-b243-4643-9d55-4986deb022a4"
   },
   "outputs": [],
   "source": [
    "physical_devices = tf.config.list_physical_devices('GPU')\n",
    "for gpu in physical_devices:\n",
    "    tf.config.experimental.set_memory_growth(gpu, True)"
   ]
  },
  {
   "cell_type": "markdown",
   "id": "188e78c3",
   "metadata": {},
   "source": [
    "### Non-optimized hyperparameters"
   ]
  },
  {
   "cell_type": "code",
   "execution_count": null,
   "id": "79ebf8ed",
   "metadata": {},
   "outputs": [],
   "source": [
    "IMG_SIZE = 224\n",
    "NUM_EPOCHS = 100 # doesn't matter much because of EarlyStopping\n",
    "# EarlyStopping\n",
    "PATIENCE = 5 # no. of epochs with no improvement after which training will be stopped\n",
    "# ReduceLROnPlateau\n",
    "LR_PATIENCE = 5 # no. of epochs with no improvement after which learning rate will be reduced\n",
    "LR_FACTOR = 0.1 # factor by which the learning rate will be reduced\n",
    "MIN_LR = 1e-6 # lower bound on the learning rate\n",
    "# Optuna\n",
    "OPTUNA_TRIALS = 50"
   ]
  },
  {
   "cell_type": "markdown",
   "id": "2d02399f-2a2f-4636-aa08-7b3995760a52",
   "metadata": {
    "id": "2d02399f-2a2f-4636-aa08-7b3995760a52"
   },
   "source": [
    "### Dataset splitting (one-time)"
   ]
  },
  {
   "cell_type": "code",
   "execution_count": null,
   "id": "ffa314da",
   "metadata": {},
   "outputs": [],
   "source": [
    "output_dir = r'splitted_data' # Intentionally declared in separate cell"
   ]
  },
  {
   "cell_type": "code",
   "execution_count": null,
   "id": "67df12eb-f7db-4506-aad3-b4048f59ac1a",
   "metadata": {
    "id": "67df12eb-f7db-4506-aad3-b4048f59ac1a",
    "outputId": "d5122c24-1bf1-4a3e-f1bb-cfa217463401"
   },
   "outputs": [],
   "source": [
    "# import splitfolders\n",
    "\n",
    "# dataset_dir = r'dataset'\n",
    "\n",
    "# # Make output dir if doesn't exist, else skip\n",
    "# os.makedirs(output_dir, exist_ok=True)\n",
    "\n",
    "# splitfolders.ratio(dataset_dir, output=output_dir, seed=1337, ratio=(0.75, 0.15, 0.1))\n",
    "# print(f\"Dataset successfully splitted into: {os.listdir(output_dir)}\")"
   ]
  },
  {
   "cell_type": "markdown",
   "id": "12d274e5-04e0-44c6-a2dc-96c52afa3da8",
   "metadata": {
    "id": "12d274e5-04e0-44c6-a2dc-96c52afa3da8"
   },
   "source": [
    "### Dataset config"
   ]
  },
  {
   "cell_type": "code",
   "execution_count": null,
   "id": "7e6eb705-96e6-4c43-9791-10b59d51f7bf",
   "metadata": {
    "id": "7e6eb705-96e6-4c43-9791-10b59d51f7bf",
    "outputId": "4d6ae7d2-3fde-4de2-fd0c-23b711648354"
   },
   "outputs": [],
   "source": [
    "def helper_ds(partition, shuffle_status=True):\n",
    "    return tf.keras.utils.image_dataset_from_directory(\n",
    "        directory=os.path.join(output_dir, partition),\n",
    "        image_size=(IMG_SIZE, IMG_SIZE),\n",
    "        batch_size=32,\n",
    "        label_mode='binary',\n",
    "        shuffle=shuffle_status\n",
    "    )\n",
    "\n",
    "train_ds = helper_ds('train')\n",
    "val_ds = helper_ds('val')\n",
    "test_ds = helper_ds('test', False)\n",
    "\n",
    "\n",
    "# Rescale layer\n",
    "rescale_layer = tf.keras.layers.Rescaling(1./255)\n",
    "\n",
    "# Data augmentation for 'train' set\n",
    "data_augmentation = tf.keras.Sequential([\n",
    "        tf.keras.layers.RandomFlip('horizontal'),\n",
    "        tf.keras.layers.RandomRotation(0.2),\n",
    "        tf.keras.layers.RandomContrast(0.2),\n",
    "        tf.keras.layers.RandomBrightness(0.15),\n",
    "        ])\n",
    "\n",
    "AUTOTUNE = tf.data.AUTOTUNE\n",
    "\n",
    "# Augmentation and rescaling for 'train' set\n",
    "train_rsc = train_ds.map(lambda x, y: (rescale_layer(data_augmentation(x), training=True), y), num_parallel_calls=AUTOTUNE)\n",
    "train_rsc = train_rsc.cache().shuffle(1000).prefetch(buffer_size=AUTOTUNE)\n",
    "\n",
    "# Only rescaling for 'test' and 'val' set\n",
    "val_rsc = val_ds.map(lambda x, y: (rescale_layer(x), y), num_parallel_calls=AUTOTUNE).prefetch(buffer_size=AUTOTUNE)\n",
    "test_rsc = test_ds.map(lambda x, y: (rescale_layer(x), y), num_parallel_calls=AUTOTUNE).prefetch(buffer_size=AUTOTUNE)"
   ]
  },
  {
   "cell_type": "code",
   "execution_count": null,
   "id": "5938da8a-eb93-4c9c-9a4b-bbbc5af98d88",
   "metadata": {},
   "outputs": [],
   "source": [
    "class_names = train_ds.class_names\n",
    "print(f\"Class names: {class_names}\")\n",
    "\n",
    "# Saving the class names\n",
    "with open('class_names.json', 'w') as f:\n",
    "    json.dump(class_names, f)\n",
    "\n",
    "# Sanity check\n",
    "print(f\"Class names successfully saved.\") if os.path.exists('class_names.json') else print(f\"Failed to save the file.\")"
   ]
  },
  {
   "cell_type": "markdown",
   "id": "266ebb57-f3b3-42c4-8ed1-6984cc8724fa",
   "metadata": {},
   "source": [
    "### Data visualization"
   ]
  },
  {
   "cell_type": "code",
   "execution_count": null,
   "id": "85e730a8-29a9-47d9-ab06-511e1c7da23b",
   "metadata": {
    "id": "85e730a8-29a9-47d9-ab06-511e1c7da23b",
    "outputId": "97156af9-ca66-4b71-e620-4c96b68528de"
   },
   "outputs": [],
   "source": [
    "plt.figure(figsize=(10, 8))\n",
    "for images, labels in train_rsc.take(1):\n",
    "    for i in range(9):\n",
    "        ax = plt.subplot(3, 3, i + 1)\n",
    "        plt.imshow(images[i].numpy())\n",
    "        state = \"active\" if int(labels[i]) else \"drowsy\"\n",
    "        plt.title(state)\n",
    "        plt.axis(\"off\")\n",
    "        plt.tight_layout()"
   ]
  },
  {
   "cell_type": "markdown",
   "id": "0d314ad4-1bfd-452d-a7d4-749e1cbbb18e",
   "metadata": {
    "id": "0d314ad4-1bfd-452d-a7d4-749e1cbbb18e"
   },
   "source": [
    "### Stacking models"
   ]
  },
  {
   "cell_type": "code",
   "execution_count": null,
   "id": "dda5aa5d-ca77-4a8e-b0d6-10a2548fe7b5",
   "metadata": {
    "id": "dda5aa5d-ca77-4a8e-b0d6-10a2548fe7b5"
   },
   "outputs": [],
   "source": [
    "def stacked_model(input_shape=[IMG_SIZE, IMG_SIZE, 3], LEARNING_RATE=0.0001, DROPOUT_RATE=0.2):\n",
    "\n",
    "    d_net = tf.keras.applications.DenseNet121(include_top=False, weights='imagenet', input_shape=input_shape)\n",
    "    e_net = tf.keras.applications.EfficientNetV2B2(include_top=False, weights='imagenet', input_shape=input_shape)\n",
    "    m_net = tf.keras.applications.MobileNetV2(include_top=False, weights='imagenet', input_shape=input_shape)\n",
    "\n",
    "    # Freeze the models\n",
    "    d_net.trainable=False; e_net.trainable=False; m_net.trainable=False\n",
    "\n",
    "    # Input layer\n",
    "    inputs = tf.keras.Input(shape=input_shape)\n",
    "\n",
    "    # Averaging the outputs from each model\n",
    "    d_net_gap = tf.keras.layers.GlobalAveragePooling2D()(d_net(inputs))\n",
    "    e_net_gap = tf.keras.layers.GlobalAveragePooling2D()(e_net(inputs))\n",
    "    m_net_gap = tf.keras.layers.GlobalAveragePooling2D()(m_net(inputs))\n",
    "\n",
    "    # Combine outputs\n",
    "    combined_outputs = tf.keras.layers.concatenate([d_net_gap, e_net_gap, m_net_gap])\n",
    "\n",
    "    # Custom layers\n",
    "    stacked_1 = tf.keras.layers.Dense(1024, activation='relu')(combined_outputs)\n",
    "    stacked_1 = tf.keras.layers.BatchNormalization()(stacked_1)\n",
    "    stacked_1 = tf.keras.layers.Dropout(DROPOUT_RATE)(stacked_1)\n",
    "\n",
    "    stacked_2 = tf.keras.layers.Dense(512, activation='relu')(stacked_1)\n",
    "    stacked_2 = tf.keras.layers.BatchNormalization()(stacked_2)\n",
    "    stacked_2 = tf.keras.layers.Dropout(DROPOUT_RATE)(stacked_2)\n",
    "\n",
    "    stacked_3 = tf.keras.layers.Dense(256, activation='relu')(stacked_2)\n",
    "    stacked_3 = tf.keras.layers.BatchNormalization()(stacked_3)\n",
    "    stacked_3 = tf.keras.layers.Dropout(DROPOUT_RATE)(stacked_3)\n",
    "\n",
    "    out = tf.keras.layers.Dense(1, activation='sigmoid')(stacked_3)\n",
    "\n",
    "    model = tf.keras.Model(inputs=inputs, outputs=out)\n",
    "    model.compile(optimizer=tf.keras.optimizers.Adam(learning_rate=LEARNING_RATE),\n",
    "                 loss='binary_crossentropy',\n",
    "                 metrics=['accuracy', tf.keras.metrics.Precision(name='precision'), tf.keras.metrics.Recall(name='recall')])\n",
    "    return model"
   ]
  },
  {
   "cell_type": "markdown",
   "id": "1d4ac484-a983-40f6-bcfa-e987c19fb58a",
   "metadata": {
    "id": "1d4ac484-a983-40f6-bcfa-e987c19fb58a"
   },
   "source": [
    "### Defining callbacks"
   ]
  },
  {
   "cell_type": "code",
   "execution_count": null,
   "id": "4f514e8f-1996-4dce-bb1b-f60583d6f147",
   "metadata": {
    "id": "4f514e8f-1996-4dce-bb1b-f60583d6f147"
   },
   "outputs": [],
   "source": [
    "early_stopping = tf.keras.callbacks.EarlyStopping(monitor='val_loss', patience=PATIENCE, restore_best_weights=True)\n",
    "reduce_lr = tf.keras.callbacks.ReduceLROnPlateau(monitor='val_loss', factor=LR_FACTOR, patience=LR_PATIENCE, min_lr=MIN_LR)\n",
    "model_checkpoint = tf.keras.callbacks.ModelCheckpoint(\"checkpoints/best_model.keras\", monitor='val_loss', save_best_only=True, verbose=1)\n",
    "\n",
    "# Custom training curve callback\n",
    "from IPython.display import clear_output\n",
    "\n",
    "train_losses=[]; val_losses=[]; precision_scores=[]; recall_scores=[]\n",
    "\n",
    "class TrainingCurveCallback(tf.keras.callbacks.Callback):\n",
    "    def on_epoch_end(self, epoch, logs=None):\n",
    "        train_losses.append(logs['loss'])\n",
    "        val_losses.append(logs['val_loss'])\n",
    "        precision_scores.append(logs['precision'])\n",
    "        recall_scores.append(logs['recall'])\n",
    "\n",
    "        clear_output(wait=True) # clear output before plotting\n",
    "\n",
    "        fig, ax1 = plt.subplots(figsize=(10, 5)) # create figure; will contain loss/accuracy curves\n",
    "        fig.suptitle('Training Curves')\n",
    "\n",
    "        # loss curve (ax1 - left y axis)\n",
    "        ax1.plot(train_losses, label='Train Loss')\n",
    "        ax1.plot(val_losses, label='Validation Loss')\n",
    "        ax1.set_xlabel('Epoch')\n",
    "        ax1.set_xlim(left=0)\n",
    "        ax1.set_ylabel('Loss function')\n",
    "\n",
    "        # determine left y axis range from min/max loss values\n",
    "        y_ax1_min = min(min(train_losses), min(val_losses)) # find lowest loss value across both curves\n",
    "        y_ax1_min = max(0, y_ax1_min - 0.1) # add some padding to the bottom of the plot. lower bound can't be less than 0\n",
    "        y_ax1_max = max(max(train_losses), max(val_losses)) + 0.1 # find highest loss value across both curves, add some padding to the top of the plot\n",
    "        ax1.set_ylim(y_ax1_min, y_ax1_max) # set y axis limits\n",
    "\n",
    "        # Best epoch (smallest loss)\n",
    "        best_epoch = int(np.argmin(val_losses))\n",
    "        best_loss = val_losses[best_epoch]\n",
    "\n",
    "        # add veritcal line for best epoch\n",
    "        ax1.vlines(best_epoch, ymin=0, ymax=y_ax1_max, linestyles='dashed', colors='black',\n",
    "                   label=f'best epoch={best_epoch}\\nval loss={best_loss:.3f}')\n",
    "        ax1.legend(loc='upper left')\n",
    "\n",
    "        # create right y axis for precision/recall curves\n",
    "        ax2 = ax1.twinx()\n",
    "\n",
    "        # Plot precision/recall (right y-axis)\n",
    "        ax2.plot(precision_scores, label=f'Precision\\n{precision_scores[best_epoch]:.3f} @ {best_epoch}', color='red')\n",
    "        ax2.plot(recall_scores, label=f'Recall\\n{recall_scores[best_epoch]:.3f} @ {best_epoch}', color='green')\n",
    "        ax2.set_ylabel('Precision / Recall')\n",
    "        ax2.set_ylim(0, 1)\n",
    "        ax2.legend(loc='upper right')\n",
    "        plt.tight_layout()\n",
    "        plt.show()"
   ]
  },
  {
   "cell_type": "markdown",
   "id": "f447c02f-19ec-459d-9dcb-cd470709dd35",
   "metadata": {
    "id": "f447c02f-19ec-459d-9dcb-cd470709dd35"
   },
   "source": [
    "### Model summary (optional)"
   ]
  },
  {
   "cell_type": "code",
   "execution_count": null,
   "id": "46c430a5-e81b-4e76-a531-5cac36fb7ea6",
   "metadata": {
    "id": "46c430a5-e81b-4e76-a531-5cac36fb7ea6"
   },
   "outputs": [],
   "source": [
    "# ensemble_model = stacked_model()\n",
    "# ensemble_model.summary()"
   ]
  },
  {
   "cell_type": "markdown",
   "id": "a03153c2-27aa-4d70-a46d-af3213813b2c",
   "metadata": {
    "id": "a03153c2-27aa-4d70-a46d-af3213813b2c"
   },
   "source": [
    "### Running Optuna (skippable)"
   ]
  },
  {
   "cell_type": "code",
   "execution_count": null,
   "id": "b3f9ca8b-eb79-4625-b1d4-22466a68b0a9",
   "metadata": {
    "id": "b3f9ca8b-eb79-4625-b1d4-22466a68b0a9",
    "outputId": "c5058e4a-8139-4245-a5bf-afd20de3489c"
   },
   "outputs": [],
   "source": [
    "def objective(trial):\n",
    "    # Define the hyperparameter search space\n",
    "    params = {\n",
    "        'LEARNING_RATE': trial.suggest_loguniform('LEARNING_RATE', 1e-5, 1e-2),\n",
    "        'DROPOUT_RATE': trial.suggest_float('DROPOUT_RATE', 0.1, 0.5, step=0.1),\n",
    "    }\n",
    "    ensemble_model = stacked_model(LEARNING_RATE=params['LEARNING_RATE'], DROPOUT_RATE=params['DROPOUT_RATE'])\n",
    "\n",
    "    optuna_pruner = optuna.integration.TFKerasPruningCallback(trial, monitor='val_loss')\n",
    "    history = ensemble_model.fit(train_rsc, validation_data=val_rsc, epochs=NUM_EPOCHS, callbacks=[early_stopping, reduce_lr, optuna_pruner])\n",
    "    return min(history.history['val_loss'])\n",
    "    \n",
    "study = optuna.create_study(direction='minimize') # minimize validation loss\n",
    "study.optimize(objective, n_trials=OPTUNA_TRIALS, show_progress_bar=True)"
   ]
  },
  {
   "cell_type": "code",
   "execution_count": null,
   "id": "e89fdad7",
   "metadata": {},
   "outputs": [],
   "source": [
    "# Get the best trial's value and hyperparameters\n",
    "best_val = study.best_value; best_params = study.best_params\n",
    "print(f'Best value: {best_val}\\nBest hyperparameters found: {best_params}')"
   ]
  },
  {
   "cell_type": "code",
   "execution_count": null,
   "id": "cba6bca5-259c-48e0-b5df-3d2811ec1778",
   "metadata": {},
   "outputs": [],
   "source": [
    "# Save the best hyperparameters to a file\n",
    "with open('best_hyperparameters.yaml', 'w') as f:\n",
    "    yaml.dump(best_params, f)"
   ]
  },
  {
   "cell_type": "markdown",
   "id": "b8454b67-a3db-47cc-93c2-46e588ba3a94",
   "metadata": {},
   "source": [
    "### Training the final model"
   ]
  },
  {
   "cell_type": "code",
   "execution_count": null,
   "id": "e8ccfdde-f509-493a-a049-9067dbbb6a6f",
   "metadata": {},
   "outputs": [],
   "source": [
    "# Load the ensemble model again\n",
    "ensemble_model = stacked_model(LEARNING_RATE=best_params['LEARNING_RATE'], DROPOUT_RATE=best_params['DROPOUT_RATE'])\n",
    "\n",
    "# If you want to skip Optuna, simply comment out the line above and uncomment the line below\n",
    "# ensemble_model = stacked_model(LEARNING_RATE=0.0001, DROPOUT_RATE=0.2)\n",
    "\n",
    "history = ensemble_model.fit(train_rsc, validation_data=val_rsc, epochs=NUM_EPOCHS, callbacks=[early_stopping, reduce_lr, TrainingCurveCallback()])"
   ]
  },
  {
   "cell_type": "markdown",
   "id": "033c4163-c4be-4c19-b5a0-b3944df0c49d",
   "metadata": {},
   "source": [
    "### Saving the model"
   ]
  },
  {
   "cell_type": "code",
   "execution_count": null,
   "id": "939c979b-ebcf-4270-a5f5-f817c46ba57b",
   "metadata": {},
   "outputs": [],
   "source": [
    "model_filename = 'best_model.keras' # Intentionally declared in separate cell"
   ]
  },
  {
   "cell_type": "code",
   "execution_count": null,
   "id": "4eef6431-97bd-4f0d-822d-737d6f2e5ec5",
   "metadata": {},
   "outputs": [],
   "source": [
    "ensemble_model.save(model_filename)\n",
    "\n",
    "# Sanity check\n",
    "print(f\"Model successfully saved as {model_filename}\") if os.path.exists(model_filename) else print(f\"Failed to save the model.\")"
   ]
  },
  {
   "cell_type": "markdown",
   "id": "f0db9568-89ed-44aa-9dee-45190fc68878",
   "metadata": {},
   "source": [
    "### Loading the model"
   ]
  },
  {
   "cell_type": "code",
   "execution_count": null,
   "id": "a4a9a3c6-0097-4e44-93d2-0b8a3ec4ddcb",
   "metadata": {},
   "outputs": [],
   "source": [
    "optimized_ensemble = tf.keras.models.load_model(model_filename) # Intentionally declared in separate cell"
   ]
  },
  {
   "cell_type": "markdown",
   "id": "1b0a9a35-be46-40a1-a8d6-bbcf45d17ee7",
   "metadata": {},
   "source": [
    "### Testing w/ val dataset"
   ]
  },
  {
   "cell_type": "code",
   "execution_count": null,
   "id": "99b39ad1-360b-4e37-8866-b7fcef59e177",
   "metadata": {},
   "outputs": [],
   "source": [
    "final_val_loss, final_val_accuracy, *rest = optimized_ensemble.evaluate(val_rsc)\n",
    "print(f\"Ensemble Model - Validation Loss: {final_val_loss:.4f}, Validation Accuracy: {final_val_accuracy:.4f}\")"
   ]
  },
  {
   "cell_type": "markdown",
   "id": "527b2181-db34-46e2-b717-fa388be8fe5e",
   "metadata": {},
   "source": [
    "### Testing w/ test dataset"
   ]
  },
  {
   "cell_type": "code",
   "execution_count": null,
   "id": "1862c0b6-4407-405c-897f-e81812e1bdb9",
   "metadata": {},
   "outputs": [],
   "source": [
    "# Gather true test labels\n",
    "y_true = []\n",
    "for _, labels in test_rsc:\n",
    "    y_true.extend(labels.numpy())\n",
    "\n",
    "# Sanity check\n",
    "assert len(y_true) > 1, \"True label list is empty!\"\n",
    "\n",
    "# Predict on test dataset\n",
    "y_pred = optimized_ensemble.predict(test_rsc)"
   ]
  },
  {
   "cell_type": "code",
   "execution_count": null,
   "id": "7fa834dc-f90e-4b12-b55d-ee9537d0fa05",
   "metadata": {},
   "outputs": [],
   "source": [
    "# Need to convert prediction labels to binary for confusion matrix\n",
    "y_pred_conf = (y_pred >= 0.5).astype(int)\n",
    "\n",
    "cm = metrics.confusion_matrix(y_true, y_pred_conf)\n",
    "disp = metrics.ConfusionMatrixDisplay(confusion_matrix=cm, display_labels=class_names)\n",
    "\n",
    "plt.figure(figsize=(8,8))\n",
    "disp.plot(cmap=plt.cm.Blues, values_format='d')\n",
    "plt.xticks(rotation=45, ha='right') # Rotating labels for better readability\n",
    "plt.yticks(rotation=45, ha='right')\n",
    "plt.title('Confusion Matrix')\n",
    "plt.tight_layout()\n",
    "plt.show()"
   ]
  },
  {
   "cell_type": "code",
   "execution_count": null,
   "id": "c0a2bd15-3937-429e-876a-c34f96747419",
   "metadata": {},
   "outputs": [],
   "source": [
    "# Predict probabilities on the test set\n",
    "fpr, tpr, _ = metrics.roc_curve(y_true, y_pred)\n",
    "roc_auc = metrics.auc(fpr, tpr)\n",
    "\n",
    "plt.figure(figsize=(8, 5))\n",
    "plt.plot(fpr, tpr, label='ROC curve (area = %0.2f)' % roc_auc)\n",
    "plt.plot([0, 1], [0, 1], 'k--', label='No Skill')\n",
    "plt.xlabel('False Positive Rate')\n",
    "plt.ylabel('True Positive Rate')\n",
    "plt.title('ROC Curve for Driver Drowsiness Detection')\n",
    "plt.legend()\n",
    "plt.tight_layout()\n",
    "plt.show()"
   ]
  }
 ],
 "metadata": {
  "colab": {
   "provenance": []
  },
  "kernelspec": {
   "display_name": "Python 3 (ipykernel)",
   "language": "python",
   "name": "python3"
  },
  "language_info": {
   "codemirror_mode": {
    "name": "ipython",
    "version": 3
   },
   "file_extension": ".py",
   "mimetype": "text/x-python",
   "name": "python",
   "nbconvert_exporter": "python",
   "pygments_lexer": "ipython3",
   "version": "3.9.23"
  }
 },
 "nbformat": 4,
 "nbformat_minor": 5
}
