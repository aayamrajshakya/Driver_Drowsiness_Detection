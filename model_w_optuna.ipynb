{
 "cells": [
  {
   "cell_type": "markdown",
   "id": "b148756d-4ec9-4929-8fd8-494d990e468a",
   "metadata": {
    "id": "b148756d-4ec9-4929-8fd8-494d990e468a"
   },
   "source": [
    "### Importing key libraries"
   ]
  },
  {
   "cell_type": "code",
   "execution_count": null,
   "id": "1175886c-1bd2-4743-a7d9-d923cacfc5e9",
   "metadata": {
    "id": "1175886c-1bd2-4743-a7d9-d923cacfc5e9"
   },
   "outputs": [],
   "source": [
    "import os\n",
    "import numpy as np\n",
    "import matplotlib.pyplot as plt\n",
    "import tensorflow as tf\n",
    "import optuna\n",
    "# from sklearn.utils.class_weight import compute_class_weight\n",
    "# from sklearn.metrics import (confusion_matrix, ConfusionMatrixDisplay, classification_report)\n",
    "\n",
    "# Set seeds for reproducibility\n",
    "import random\n",
    "random.seed(42)\n",
    "tf.random.set_seed(42)"
   ]
  },
  {
   "cell_type": "code",
   "execution_count": null,
   "id": "e315f17d-b243-4643-9d55-4986deb022a4",
   "metadata": {
    "id": "e315f17d-b243-4643-9d55-4986deb022a4"
   },
   "outputs": [],
   "source": [
    "physical_devices = tf.config.list_physical_devices('GPU')\n",
    "tf.config.experimental.set_memory_growth(physical_devices[0], True)\n",
    "\n",
    "# tf.compat.v1.logging.set_verbosity(tf.compat.v1.logging.ERROR) # supress tensorflow warnings\n",
    "gpu_options = tf.compat.v1.GPUOptions(allow_growth=True)\n",
    "config = tf.compat.v1.ConfigProto(gpu_options=gpu_options)\n",
    "session = tf.compat.v1.Session(config=config)"
   ]
  },
  {
   "cell_type": "markdown",
   "id": "7cc917bf-865b-453f-b534-9b69b24d28bb",
   "metadata": {},
   "source": [
    "### Hyperparameters"
   ]
  },
  {
   "cell_type": "code",
   "execution_count": null,
   "id": "3c641866-9073-4750-bcd2-a6453f840e74",
   "metadata": {},
   "outputs": [],
   "source": [
    "IMG_SIZE = 224\n",
    "BATCH_SIZE = 32"
   ]
  },
  {
   "cell_type": "markdown",
   "id": "2d02399f-2a2f-4636-aa08-7b3995760a52",
   "metadata": {
    "id": "2d02399f-2a2f-4636-aa08-7b3995760a52"
   },
   "source": [
    "### Dataset splitting"
   ]
  },
  {
   "cell_type": "code",
   "execution_count": null,
   "id": "73dbbe28-6349-4e0a-b235-f206f1437aa9",
   "metadata": {
    "id": "73dbbe28-6349-4e0a-b235-f206f1437aa9"
   },
   "outputs": [],
   "source": [
    "!pip install -q split-folders"
   ]
  },
  {
   "cell_type": "code",
   "execution_count": null,
   "id": "67df12eb-f7db-4506-aad3-b4048f59ac1a",
   "metadata": {
    "id": "67df12eb-f7db-4506-aad3-b4048f59ac1a",
    "outputId": "d5122c24-1bf1-4a3e-f1bb-cfa217463401"
   },
   "outputs": [],
   "source": [
    "import splitfolders\n",
    "\n",
    "dataset_dir = r'dataset'\n",
    "output_dir = r'splitted_data'\n",
    "\n",
    "# Make output dir if doesn't exist, else skip\n",
    "os.makedirs(output_dir, exist_ok=True)\n",
    "\n",
    "splitfolders.ratio(dataset_dir, output=output_dir, seed=1337, ratio=(0.75, 0.15, 0.1))\n",
    "print(f\"Dataset successfully splitted into: {os.listdir(output_dir)}\")"
   ]
  },
  {
   "cell_type": "markdown",
   "id": "12d274e5-04e0-44c6-a2dc-96c52afa3da8",
   "metadata": {
    "id": "12d274e5-04e0-44c6-a2dc-96c52afa3da8"
   },
   "source": [
    "### Dataset config"
   ]
  },
  {
   "cell_type": "code",
   "execution_count": null,
   "id": "7e6eb705-96e6-4c43-9791-10b59d51f7bf",
   "metadata": {
    "id": "7e6eb705-96e6-4c43-9791-10b59d51f7bf",
    "outputId": "4d6ae7d2-3fde-4de2-fd0c-23b711648354"
   },
   "outputs": [],
   "source": [
    "def helper_ds(partition, shuffle_status=True):\n",
    "    return tf.keras.utils.image_dataset_from_directory(\n",
    "        directory=os.path.join(output_dir, partition),\n",
    "        image_size=(IMG_SIZE, IMG_SIZE),\n",
    "        batch_size=BATCH_SIZE,\n",
    "        seed=1337,\n",
    "        labels='inferred',\n",
    "        label_mode='binary',\n",
    "        shuffle=shuffle_status\n",
    "    )\n",
    "\n",
    "train_ds = helper_ds('train')\n",
    "test_ds = helper_ds('test', shuffle_status=False)\n",
    "val_ds = helper_ds('val')"
   ]
  },
  {
   "cell_type": "markdown",
   "id": "dea6eb72-5825-4489-b385-d00004089414",
   "metadata": {
    "id": "dea6eb72-5825-4489-b385-d00004089414"
   },
   "source": [
    "### Data visualization"
   ]
  },
  {
   "cell_type": "code",
   "execution_count": null,
   "id": "85e730a8-29a9-47d9-ab06-511e1c7da23b",
   "metadata": {
    "id": "85e730a8-29a9-47d9-ab06-511e1c7da23b",
    "outputId": "97156af9-ca66-4b71-e620-4c96b68528de"
   },
   "outputs": [],
   "source": [
    "plt.figure(figsize=(10, 8))\n",
    "for images, labels in train_ds.take(1):\n",
    "    for i in range(12):\n",
    "        ax = plt.subplot(3, 4, i + 1)\n",
    "        plt.imshow(np.array(images[i]).astype(\"uint8\"))\n",
    "        state = \"active\" if int(labels[i]) else \"drowsy\"\n",
    "        plt.title(state)\n",
    "        plt.axis(\"off\")\n",
    "        plt.tight_layout()"
   ]
  },
  {
   "cell_type": "code",
   "execution_count": null,
   "id": "de9a4b67-fa03-4a78-af13-d84dd476c355",
   "metadata": {
    "id": "de9a4b67-fa03-4a78-af13-d84dd476c355",
    "outputId": "ff430c62-91a5-4874-e24b-a7716de1662d"
   },
   "outputs": [],
   "source": [
    "class_names = train_ds.class_names\n",
    "print(f\"Class names: {class_names}\")"
   ]
  },
  {
   "cell_type": "markdown",
   "id": "97eb47df-e602-461c-a92e-f470c62662ea",
   "metadata": {
    "id": "97eb47df-e602-461c-a92e-f470c62662ea"
   },
   "source": [
    "### Data augmentation example"
   ]
  },
  {
   "cell_type": "code",
   "execution_count": null,
   "id": "d2e6b630-d982-414e-8a90-bdd4fffc5f70",
   "metadata": {
    "id": "d2e6b630-d982-414e-8a90-bdd4fffc5f70",
    "outputId": "e663e6e8-4836-4ecb-b7d4-45b4eb608d1e"
   },
   "outputs": [],
   "source": [
    "data_aug = [\n",
    "    tf.keras.layers.RandomFlip(\"horizontal\", input_shape=(IMG_SIZE, IMG_SIZE, 3)),\n",
    "    tf.keras.layers.RandomRotation(0.2),\n",
    "    tf.keras.layers.RandomZoom(0.2),\n",
    "    tf.keras.layers.RandomContrast(0.2),\n",
    "    tf.keras.layers.RandomBrightness([-0.3, 0.1])\n",
    "]\n",
    "\n",
    "def data_augmentation(images):\n",
    "    for layer in data_aug:\n",
    "        images = layer(images)\n",
    "    return images\n",
    "\n",
    "plt.figure(figsize=(10, 6))\n",
    "for images, _ in train_ds.take(1):\n",
    "    for i in range(8):\n",
    "        augmented_images = data_augmentation(images)\n",
    "        ax = plt.subplot(2, 4, i + 1)\n",
    "        plt.imshow(np.array(augmented_images[0]).astype(\"uint8\"))\n",
    "        plt.title(f\"augmented {i+1}\")\n",
    "        plt.axis(\"off\")\n",
    "        plt.tight_layout()"
   ]
  },
  {
   "cell_type": "code",
   "execution_count": null,
   "id": "0c683953-51b7-42ac-8a56-cd2aea40378c",
   "metadata": {
    "id": "0c683953-51b7-42ac-8a56-cd2aea40378c"
   },
   "outputs": [],
   "source": [
    "AUTOTUNE = tf.data.AUTOTUNE\n",
    "\n",
    "# Normalize pixel values\n",
    "# normalization_layer = tf.keras.layers.Rescaling(1./255)\n",
    "# train_ds = train_ds.map(lambda x, y: (normalization_layer(x), y), num_parallel_calls=AUTOTUNE)\n",
    "# val_ds = val_ds.map(lambda x, y: (normalization_layer(x), y), num_parallel_calls=AUTOTUNE)\n",
    "# test_ds = test_ds.map(lambda x, y: (normalization_layer(x), y), num_parallel_calls=AUTOTUNE)\n",
    "\n",
    "# Enable prefetching and shuffling\n",
    "train_ds = train_ds.shuffle(buffer_size=10000).prefetch(buffer_size=AUTOTUNE)\n",
    "val_ds = val_ds.prefetch(buffer_size=AUTOTUNE)\n",
    "test_ds = test_ds.prefetch(buffer_size=AUTOTUNE)"
   ]
  },
  {
   "cell_type": "code",
   "execution_count": null,
   "id": "5910c7a3-546b-4d26-8b49-cbda29fca3bc",
   "metadata": {
    "id": "5910c7a3-546b-4d26-8b49-cbda29fca3bc",
    "outputId": "57723cef-eb70-4091-f8c6-1ad796a13cf0"
   },
   "outputs": [],
   "source": [
    "# Retain class names after applying map\n",
    "train_ds.class_names = class_names\n",
    "print(train_ds.class_names)"
   ]
  },
  {
   "cell_type": "code",
   "execution_count": null,
   "id": "8c1f7ad3-70c5-4c55-9e25-0e6e41b518b2",
   "metadata": {
    "id": "8c1f7ad3-70c5-4c55-9e25-0e6e41b518b2",
    "outputId": "a7826df8-94a2-4fa1-d00f-200217669cb6"
   },
   "outputs": [],
   "source": [
    "# Double checking if train_ds exists and has class_names\n",
    "if hasattr(train_ds, 'class_names'):\n",
    "    print(\"Class Names:\", train_ds.class_names)\n",
    "else:\n",
    "    print(\"Error: train_ds does not have class_names. Verify dataset creation.\")"
   ]
  },
  {
   "cell_type": "markdown",
   "id": "0d314ad4-1bfd-452d-a7d4-749e1cbbb18e",
   "metadata": {
    "id": "0d314ad4-1bfd-452d-a7d4-749e1cbbb18e"
   },
   "source": [
    "### Stacking models"
   ]
  },
  {
   "cell_type": "code",
   "execution_count": null,
   "id": "dda5aa5d-ca77-4a8e-b0d6-10a2548fe7b5",
   "metadata": {
    "id": "dda5aa5d-ca77-4a8e-b0d6-10a2548fe7b5"
   },
   "outputs": [],
   "source": [
    "def stacked_model(input_shape=[IMG_SIZE, IMG_SIZE, 3], LEARNING_RATE=0.0001, DROPOUT_PROB=0.3, OPTIMIZER='Adam'):\n",
    "    optim = None\n",
    "    \n",
    "    d_net = tf.keras.applications.DenseNet121(include_top=False, weights='imagenet', input_shape=input_shape)\n",
    "    e_net = tf.keras.applications.EfficientNetV2B2(include_top=False, weights='imagenet', input_shape=input_shape)\n",
    "    m_net = tf.keras.applications.MobileNetV2(include_top=False, weights='imagenet', input_shape=input_shape)\n",
    "\n",
    "    # Freeze the models\n",
    "    d_net.trainable=False; e_net.trainable=False; m_net.trainable=False\n",
    "\n",
    "    # Input layer\n",
    "    inputs = tf.keras.Input(shape=input_shape)\n",
    "\n",
    "    # Data augmentation\n",
    "    data_augmentation = tf.keras.Sequential([\n",
    "        tf.keras.layers.Input(shape=(IMG_SIZE, IMG_SIZE, 3)),\n",
    "        tf.keras.layers.RandomFlip(\"horizontal\"),\n",
    "        tf.keras.layers.RandomRotation(0.2),\n",
    "        tf.keras.layers.RandomZoom(0.2),\n",
    "        tf.keras.layers.RandomContrast(0.2),\n",
    "        tf.keras.layers.RandomBrightness([-0.3, 0.1])\n",
    "    ])\n",
    "\n",
    "    augmented_inputs = data_augmentation(inputs)\n",
    "\n",
    "    # Extracted features\n",
    "    d_net_features = d_net(augmented_inputs)\n",
    "    e_net_features = e_net(augmented_inputs)\n",
    "    m_net_features = m_net(augmented_inputs)\n",
    "\n",
    "    # Global average pooling\n",
    "    d_net_pooling = tf.keras.layers.GlobalAveragePooling2D()(d_net_features)\n",
    "    e_net_pooling = tf.keras.layers.GlobalAveragePooling2D()(e_net_features)\n",
    "    m_net_pooling = tf.keras.layers.GlobalAveragePooling2D()(m_net_features)\n",
    "\n",
    "    # Combine outputs\n",
    "    combined_outputs = tf.keras.layers.concatenate([d_net_pooling, e_net_pooling])\n",
    "    # REFERENCE: https://stackoverflow.com/a/71170687/23011800\n",
    "    outputs_pre = tf.keras.layers.Dense(1024, activation='relu')(combined_outputs)\n",
    "    outputs_pre = tf.keras.layers.Dropout(DROPOUT_PROB)(outputs_pre)\n",
    "    outputs = tf.keras.layers.Dense(1, activation='sigmoid')(outputs_pre)\n",
    "\n",
    "    model = tf.keras.Model(inputs=inputs, outputs=outputs)\n",
    "\n",
    "    if OPTIMIZER == 'Adam':\n",
    "        optim = tf.keras.optimizers.Adam(learning_rate=LEARNING_RATE)\n",
    "    elif OPTIMIZER == 'RMSProp':\n",
    "        optim = tf.keras.optimizers.RMSprop(learning_rate=LEARNING_RATE)\n",
    "    elif OPTIMIZER == 'SGD':\n",
    "        optim = tf.keras.optimizers.SGD(learning_rate=LEARNING_RATE)\n",
    "        \n",
    "    model.compile(optimizer=optim,\n",
    "                 loss='binary_crossentropy',\n",
    "                 metrics=['accuracy', tf.keras.metrics.AUC(), tf.keras.metrics.Precision(name='precision'), tf.keras.metrics.Recall(name='recall')])\n",
    "    return model"
   ]
  },
  {
   "cell_type": "markdown",
   "id": "1d4ac484-a983-40f6-bcfa-e987c19fb58a",
   "metadata": {
    "id": "1d4ac484-a983-40f6-bcfa-e987c19fb58a"
   },
   "source": [
    "### Defining callbacks"
   ]
  },
  {
   "cell_type": "code",
   "execution_count": null,
   "id": "4f514e8f-1996-4dce-bb1b-f60583d6f147",
   "metadata": {
    "id": "4f514e8f-1996-4dce-bb1b-f60583d6f147"
   },
   "outputs": [],
   "source": [
    "# early_stopping = tf.keras.callbacks.EarlyStopping(monitor='val_loss', patience=PATIENCE, restore_best_weights=True)\n",
    "# lr_scheduler = tf.keras.callbacks.ReduceLROnPlateau(monitor='val_loss', factor=LR_FACTOR, patience=LR_PATIENCE, min_lr=MIN_LR)\n",
    "model_checkpoint = tf.keras.callbacks.ModelCheckpoint(\"checkpoints/best_model.keras\", monitor='val_loss', save_best_only=True, verbose=1)\n",
    "\n",
    "# Custom training curve callback\n",
    "from IPython.display import clear_output\n",
    "\n",
    "train_losses=[]; val_losses=[]; precision_scores=[]; recall_scores=[]\n",
    "\n",
    "class TrainingCurveCallback(tf.keras.callbacks.Callback):\n",
    "    def on_epoch_end(self, epoch, logs=None):\n",
    "        train_losses.append(logs['loss'])\n",
    "        val_losses.append(logs['val_loss'])\n",
    "        precision_scores.append(logs['precision'])\n",
    "        recall_scores.append(logs['recall'])\n",
    "\n",
    "        clear_output(wait=True) # clear output before plotting\n",
    "\n",
    "        fig, ax1 = plt.subplots(figsize=(10, 5)) # create figure; will contain loss/accuracy curves\n",
    "        fig.suptitle('Training Curves')\n",
    "\n",
    "        # loss curve (ax1 - left y axis)\n",
    "        ax1.plot(train_losses, label='Train Loss')\n",
    "        ax1.plot(val_losses, label='Validation Loss')\n",
    "        ax1.set_xlabel('Epoch')\n",
    "        ax1.set_xlim(left=0)\n",
    "        ax1.set_ylabel('Loss function')\n",
    "\n",
    "        # determine left y axis range from min/max loss values\n",
    "        y_ax1_min = min(min(train_losses), min(val_losses)) # find lowest loss value across both curves\n",
    "        y_ax1_min = max(0, y_ax1_min - 0.1) # add some padding to the bottom of the plot. lower bound can't be less than 0\n",
    "        y_ax1_max = max(max(train_losses), max(val_losses)) + 0.1# find highest loss value across both curves, add some padding to the top of the plot\n",
    "        ax1.set_ylim(y_ax1_min, y_ax1_max) # set y axis limits\n",
    "\n",
    "        # Best epoch (smallest loss)\n",
    "        best_epoch = int(np.argmin(train_losses))\n",
    "        best_loss = train_losses[best_epoch]\n",
    "\n",
    "        # add veritcal line for best epoch\n",
    "        ax1.vlines(best_epoch, ymin=y_ax1_min, ymax=y_ax1_max, linestyles='dashed', colors='black',\n",
    "                   label=f'best epoch={best_epoch}\\nloss={best_loss:.3f}')\n",
    "        ax1.legend(loc='upper left')\n",
    "\n",
    "        # create right y axis for precision/recall curves\n",
    "        ax2 = ax1.twinx()\n",
    "\n",
    "        # Plot precision/recall (right y-axis)\n",
    "        ax2.plot(precision_scores, label=f'Precision\\n{precision_scores[best_epoch]:.3f} @ {best_epoch}', color='red')\n",
    "        ax2.plot(recall_scores, label=f'Recall\\n{recall_scores[best_epoch]:.3f} @ {best_epoch}', color='green')\n",
    "        ax2.set_ylabel('Precision / Recall')\n",
    "        ax2.set_ylim(0, 1)\n",
    "        ax2.legend(loc='upper right')\n",
    "        plt.tight_layout()\n",
    "        plt.show()"
   ]
  },
  {
   "cell_type": "markdown",
   "id": "722be7c8-f9bb-4670-b9e6-44dcb74bc918",
   "metadata": {
    "id": "722be7c8-f9bb-4670-b9e6-44dcb74bc918"
   },
   "source": [
    "### Initializing the model"
   ]
  },
  {
   "cell_type": "code",
   "execution_count": null,
   "id": "1a667532-5468-42a4-bc32-c15c1a16a5c4",
   "metadata": {
    "id": "1a667532-5468-42a4-bc32-c15c1a16a5c4"
   },
   "outputs": [],
   "source": [
    "ensemble_model = stacked_model()"
   ]
  },
  {
   "cell_type": "markdown",
   "id": "f447c02f-19ec-459d-9dcb-cd470709dd35",
   "metadata": {
    "id": "f447c02f-19ec-459d-9dcb-cd470709dd35"
   },
   "source": [
    "### Model summary (optional)"
   ]
  },
  {
   "cell_type": "code",
   "execution_count": null,
   "id": "46c430a5-e81b-4e76-a531-5cac36fb7ea6",
   "metadata": {
    "id": "46c430a5-e81b-4e76-a531-5cac36fb7ea6"
   },
   "outputs": [],
   "source": [
    "# ensemble_model.summary()"
   ]
  },
  {
   "cell_type": "markdown",
   "id": "a03153c2-27aa-4d70-a46d-af3213813b2c",
   "metadata": {
    "id": "a03153c2-27aa-4d70-a46d-af3213813b2c"
   },
   "source": [
    "### Training the model"
   ]
  },
  {
   "cell_type": "code",
   "execution_count": null,
   "id": "0803e795-bef0-4708-8445-ebf9608cf8cc",
   "metadata": {},
   "outputs": [],
   "source": [
    "def objective(trial):\n",
    "    params = {\n",
    "        'NUM_EPOCHS': trial.suggest_int('NUM_EPOCHS', 10, 100, step=10),\n",
    "        'LEARNING_RATE': trial.suggest_float('LEARNING_RATE', 1e-5, 1e-3, log=True),\n",
    "        'OPTIMIZER': trial.suggest_categorical('OPTIMIZER', [\"Adam\", \"RMSprop\", \"SGD\"]),\n",
    "        'BATCH_SIZE': trial.suggest_categorical('BATCH_SIZE', [16, 32, 64, 128]),\n",
    "        'DROPOUT_PROB': trial.suggest_float('DROPOUT_PROB', 0.1, 0.7, step=0.1),\n",
    "        'PATIENCE': trial.suggest_int('PATIENCE', 3, 10, step=1),\n",
    "        'LR_PATIENCE': trial.suggest_int('LR_PATIENCE', 3, 10, step=1),\n",
    "    }\n",
    "    model = stacked_model(LEARNING_RATE=params['LEARNING_RATE'],\n",
    "                         DROPOUT_PROB=params['DROPOUT_PROB'],\n",
    "                         OPTIMIZER=params['OPTIMIZER'])\n",
    "    \n",
    "    early_stopping = tf.keras.callbacks.EarlyStopping(monitor='val_loss', patience=params['PATIENCE'], restore_best_weights=True)\n",
    "    reduce_lr = tf.keras.callbacks.ReduceLROnPlateau(monitor='val_loss', factor=0.1, patience=params['LR_PATIENCE'], min_lr=1e-6)\n",
    "\n",
    "    history = ensemble_model.fit(train_ds, validation_data=val_ds, epochs=params['NUM_EPOCHS'],\n",
    "                             callbacks=[early_stopping, reduce_lr, TrainingCurveCallback()], shuffle=True)\n",
    "\n",
    "    return min(history.history['val_loss'])"
   ]
  },
  {
   "cell_type": "code",
   "execution_count": null,
   "id": "e6df781b-cee9-4ac3-8066-3d7470a50228",
   "metadata": {},
   "outputs": [],
   "source": [
    "study = optuna.create_study(direction='minimize')\n",
    "study.optimize(objective, n_trials=100)"
   ]
  },
  {
   "cell_type": "code",
   "execution_count": null,
   "id": "b3f9ca8b-eb79-4625-b1d4-22466a68b0a9",
   "metadata": {
    "id": "b3f9ca8b-eb79-4625-b1d4-22466a68b0a9",
    "outputId": "c5058e4a-8139-4245-a5bf-afd20de3489c"
   },
   "outputs": [],
   "source": [
    "# history = ensemble_model.fit(train_ds, validation_data=val_ds, epochs=NUM_EPOCHS,\n",
    "#                              callbacks=[early_stopping, lr_scheduler, model_checkpoint, TrainingCurveCallback()], shuffle=True)"
   ]
  }
 ],
 "metadata": {
  "colab": {
   "provenance": []
  },
  "kernelspec": {
   "display_name": "Python 3 (ipykernel)",
   "language": "python",
   "name": "python3"
  },
  "language_info": {
   "codemirror_mode": {
    "name": "ipython",
    "version": 3
   },
   "file_extension": ".py",
   "mimetype": "text/x-python",
   "name": "python",
   "nbconvert_exporter": "python",
   "pygments_lexer": "ipython3",
   "version": "3.10.13"
  }
 },
 "nbformat": 4,
 "nbformat_minor": 5
}
